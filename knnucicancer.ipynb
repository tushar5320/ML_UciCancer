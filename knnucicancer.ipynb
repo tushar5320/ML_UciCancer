{
 "cells": [
  {
   "cell_type": "code",
   "execution_count": 1,
   "metadata": {},
   "outputs": [],
   "source": [
    "import pandas as pd"
   ]
  },
  {
   "cell_type": "code",
   "execution_count": 2,
   "metadata": {},
   "outputs": [],
   "source": [
    "dt=pd.read_csv('https://archive.ics.uci.edu/ml/machine-learning-databases/breast-cancer-wisconsin/breast-cancer-wisconsin.data')"
   ]
  },
  {
   "cell_type": "code",
   "execution_count": 3,
   "metadata": {},
   "outputs": [],
   "source": [
    "dt.columns=list('abcdefghij')+['class']"
   ]
  },
  {
   "cell_type": "code",
   "execution_count": 4,
   "metadata": {},
   "outputs": [
    {
     "data": {
      "text/plain": [
       "((698, 11), (698, 11))"
      ]
     },
     "execution_count": 4,
     "metadata": {},
     "output_type": "execute_result"
    }
   ],
   "source": [
    "dt.dropna().shape,dt.shape"
   ]
  },
  {
   "cell_type": "code",
   "execution_count": 5,
   "metadata": {},
   "outputs": [
    {
     "data": {
      "text/plain": [
       "array(['10', '2', '4', '1', '3', '9', '7', '?', '5', '8', '6'],\n",
       "      dtype=object)"
      ]
     },
     "execution_count": 5,
     "metadata": {},
     "output_type": "execute_result"
    }
   ],
   "source": [
    "dt['g'].unique()"
   ]
  },
  {
   "cell_type": "code",
   "execution_count": 6,
   "metadata": {},
   "outputs": [],
   "source": [
    "dt=dt.replace('?',15)"
   ]
  },
  {
   "cell_type": "code",
   "execution_count": 7,
   "metadata": {},
   "outputs": [],
   "source": [
    "dt['g']=dt['g'].astype(dtype='i')"
   ]
  },
  {
   "cell_type": "code",
   "execution_count": 8,
   "metadata": {},
   "outputs": [
    {
     "data": {
      "text/plain": [
       "a        int64\n",
       "b        int64\n",
       "c        int64\n",
       "d        int64\n",
       "e        int64\n",
       "f        int64\n",
       "g        int32\n",
       "h        int64\n",
       "i        int64\n",
       "j        int64\n",
       "class    int64\n",
       "dtype: object"
      ]
     },
     "execution_count": 8,
     "metadata": {},
     "output_type": "execute_result"
    }
   ],
   "source": [
    "dt.dtypes"
   ]
  },
  {
   "cell_type": "code",
   "execution_count": 9,
   "metadata": {},
   "outputs": [
    {
     "data": {
      "text/html": [
       "<div>\n",
       "<style scoped>\n",
       "    .dataframe tbody tr th:only-of-type {\n",
       "        vertical-align: middle;\n",
       "    }\n",
       "\n",
       "    .dataframe tbody tr th {\n",
       "        vertical-align: top;\n",
       "    }\n",
       "\n",
       "    .dataframe thead th {\n",
       "        text-align: right;\n",
       "    }\n",
       "</style>\n",
       "<table border=\"1\" class=\"dataframe\">\n",
       "  <thead>\n",
       "    <tr style=\"text-align: right;\">\n",
       "      <th></th>\n",
       "      <th>b</th>\n",
       "      <th>c</th>\n",
       "      <th>d</th>\n",
       "      <th>e</th>\n",
       "      <th>f</th>\n",
       "      <th>g</th>\n",
       "      <th>h</th>\n",
       "      <th>i</th>\n",
       "      <th>j</th>\n",
       "    </tr>\n",
       "  </thead>\n",
       "  <tbody>\n",
       "    <tr>\n",
       "      <th>0</th>\n",
       "      <td>5</td>\n",
       "      <td>4</td>\n",
       "      <td>4</td>\n",
       "      <td>5</td>\n",
       "      <td>7</td>\n",
       "      <td>10</td>\n",
       "      <td>3</td>\n",
       "      <td>2</td>\n",
       "      <td>1</td>\n",
       "    </tr>\n",
       "    <tr>\n",
       "      <th>1</th>\n",
       "      <td>3</td>\n",
       "      <td>1</td>\n",
       "      <td>1</td>\n",
       "      <td>1</td>\n",
       "      <td>2</td>\n",
       "      <td>2</td>\n",
       "      <td>3</td>\n",
       "      <td>1</td>\n",
       "      <td>1</td>\n",
       "    </tr>\n",
       "    <tr>\n",
       "      <th>2</th>\n",
       "      <td>6</td>\n",
       "      <td>8</td>\n",
       "      <td>8</td>\n",
       "      <td>1</td>\n",
       "      <td>3</td>\n",
       "      <td>4</td>\n",
       "      <td>3</td>\n",
       "      <td>7</td>\n",
       "      <td>1</td>\n",
       "    </tr>\n",
       "    <tr>\n",
       "      <th>3</th>\n",
       "      <td>4</td>\n",
       "      <td>1</td>\n",
       "      <td>1</td>\n",
       "      <td>3</td>\n",
       "      <td>2</td>\n",
       "      <td>1</td>\n",
       "      <td>3</td>\n",
       "      <td>1</td>\n",
       "      <td>1</td>\n",
       "    </tr>\n",
       "    <tr>\n",
       "      <th>4</th>\n",
       "      <td>8</td>\n",
       "      <td>10</td>\n",
       "      <td>10</td>\n",
       "      <td>8</td>\n",
       "      <td>7</td>\n",
       "      <td>10</td>\n",
       "      <td>9</td>\n",
       "      <td>7</td>\n",
       "      <td>1</td>\n",
       "    </tr>\n",
       "    <tr>\n",
       "      <th>5</th>\n",
       "      <td>1</td>\n",
       "      <td>1</td>\n",
       "      <td>1</td>\n",
       "      <td>1</td>\n",
       "      <td>2</td>\n",
       "      <td>10</td>\n",
       "      <td>3</td>\n",
       "      <td>1</td>\n",
       "      <td>1</td>\n",
       "    </tr>\n",
       "    <tr>\n",
       "      <th>6</th>\n",
       "      <td>2</td>\n",
       "      <td>1</td>\n",
       "      <td>2</td>\n",
       "      <td>1</td>\n",
       "      <td>2</td>\n",
       "      <td>1</td>\n",
       "      <td>3</td>\n",
       "      <td>1</td>\n",
       "      <td>1</td>\n",
       "    </tr>\n",
       "    <tr>\n",
       "      <th>7</th>\n",
       "      <td>2</td>\n",
       "      <td>1</td>\n",
       "      <td>1</td>\n",
       "      <td>1</td>\n",
       "      <td>2</td>\n",
       "      <td>1</td>\n",
       "      <td>1</td>\n",
       "      <td>1</td>\n",
       "      <td>5</td>\n",
       "    </tr>\n",
       "    <tr>\n",
       "      <th>8</th>\n",
       "      <td>4</td>\n",
       "      <td>2</td>\n",
       "      <td>1</td>\n",
       "      <td>1</td>\n",
       "      <td>2</td>\n",
       "      <td>1</td>\n",
       "      <td>2</td>\n",
       "      <td>1</td>\n",
       "      <td>1</td>\n",
       "    </tr>\n",
       "    <tr>\n",
       "      <th>9</th>\n",
       "      <td>1</td>\n",
       "      <td>1</td>\n",
       "      <td>1</td>\n",
       "      <td>1</td>\n",
       "      <td>1</td>\n",
       "      <td>1</td>\n",
       "      <td>3</td>\n",
       "      <td>1</td>\n",
       "      <td>1</td>\n",
       "    </tr>\n",
       "  </tbody>\n",
       "</table>\n",
       "</div>"
      ],
      "text/plain": [
       "   b   c   d  e  f   g  h  i  j\n",
       "0  5   4   4  5  7  10  3  2  1\n",
       "1  3   1   1  1  2   2  3  1  1\n",
       "2  6   8   8  1  3   4  3  7  1\n",
       "3  4   1   1  3  2   1  3  1  1\n",
       "4  8  10  10  8  7  10  9  7  1\n",
       "5  1   1   1  1  2  10  3  1  1\n",
       "6  2   1   2  1  2   1  3  1  1\n",
       "7  2   1   1  1  2   1  1  1  5\n",
       "8  4   2   1  1  2   1  2  1  1\n",
       "9  1   1   1  1  1   1  3  1  1"
      ]
     },
     "execution_count": 9,
     "metadata": {},
     "output_type": "execute_result"
    }
   ],
   "source": [
    "x=dt.drop(['a','class'],axis=1)\n",
    "y=dt['class']\n",
    "x.head(10)"
   ]
  },
  {
   "cell_type": "code",
   "execution_count": 10,
   "metadata": {},
   "outputs": [
    {
     "data": {
      "text/plain": [
       "((558, 9), (558,), (140, 9), (140,))"
      ]
     },
     "execution_count": 10,
     "metadata": {},
     "output_type": "execute_result"
    }
   ],
   "source": [
    "from sklearn.model_selection import train_test_split\n",
    "x_tr,x_ts,y_tr,y_ts=train_test_split(x,y,test_size=0.2)\n",
    "x_tr.shape,y_tr.shape,x_ts.shape,y_ts.shape"
   ]
  },
  {
   "cell_type": "code",
   "execution_count": 14,
   "metadata": {},
   "outputs": [
    {
     "name": "stdout",
     "output_type": "stream",
     "text": [
      "97.14285714285714 %\n"
     ]
    }
   ],
   "source": [
    "from sklearn.neighbors import KNeighborsClassifier\n",
    "algo=KNeighborsClassifier()\n",
    "algo.fit(x_tr,y_tr)\n",
    "#algo.predict([[1033078,4,2,1,1,2,1,2,1,1]])\n",
    "#algo.score([[1033078,4,2,1,1,2,1,2,1,1]],[2])\n",
    "print(algo.score(x_ts,y_ts)*100,'%')"
   ]
  },
  {
   "cell_type": "code",
   "execution_count": 12,
   "metadata": {},
   "outputs": [
    {
     "data": {
      "text/plain": [
       "array([[90,  0],\n",
       "       [ 4, 46]], dtype=int64)"
      ]
     },
     "execution_count": 12,
     "metadata": {},
     "output_type": "execute_result"
    }
   ],
   "source": [
    "from sklearn.metrics import confusion_matrix\n",
    "confusion_matrix(y_ts,algo.predict(x_ts))"
   ]
  },
  {
   "cell_type": "code",
   "execution_count": 13,
   "metadata": {},
   "outputs": [
    {
     "data": {
      "text/html": [
       "<div>\n",
       "<style scoped>\n",
       "    .dataframe tbody tr th:only-of-type {\n",
       "        vertical-align: middle;\n",
       "    }\n",
       "\n",
       "    .dataframe tbody tr th {\n",
       "        vertical-align: top;\n",
       "    }\n",
       "\n",
       "    .dataframe thead th {\n",
       "        text-align: right;\n",
       "    }\n",
       "</style>\n",
       "<table border=\"1\" class=\"dataframe\">\n",
       "  <thead>\n",
       "    <tr style=\"text-align: right;\">\n",
       "      <th></th>\n",
       "      <th>a</th>\n",
       "      <th>b</th>\n",
       "      <th>c</th>\n",
       "      <th>d</th>\n",
       "      <th>e</th>\n",
       "      <th>f</th>\n",
       "      <th>g</th>\n",
       "      <th>h</th>\n",
       "      <th>i</th>\n",
       "      <th>j</th>\n",
       "      <th>class</th>\n",
       "    </tr>\n",
       "  </thead>\n",
       "  <tbody>\n",
       "    <tr>\n",
       "      <th>a</th>\n",
       "      <td>1.000000</td>\n",
       "      <td>-0.055276</td>\n",
       "      <td>-0.041735</td>\n",
       "      <td>-0.041717</td>\n",
       "      <td>-0.065003</td>\n",
       "      <td>-0.045630</td>\n",
       "      <td>-0.112090</td>\n",
       "      <td>-0.060082</td>\n",
       "      <td>-0.052188</td>\n",
       "      <td>-0.034961</td>\n",
       "      <td>-0.080378</td>\n",
       "    </tr>\n",
       "    <tr>\n",
       "      <th>b</th>\n",
       "      <td>-0.055276</td>\n",
       "      <td>1.000000</td>\n",
       "      <td>0.645366</td>\n",
       "      <td>0.655089</td>\n",
       "      <td>0.486699</td>\n",
       "      <td>0.522108</td>\n",
       "      <td>0.506320</td>\n",
       "      <td>0.558511</td>\n",
       "      <td>0.536176</td>\n",
       "      <td>0.350176</td>\n",
       "      <td>0.716509</td>\n",
       "    </tr>\n",
       "    <tr>\n",
       "      <th>c</th>\n",
       "      <td>-0.041735</td>\n",
       "      <td>0.645366</td>\n",
       "      <td>1.000000</td>\n",
       "      <td>0.906814</td>\n",
       "      <td>0.705397</td>\n",
       "      <td>0.751674</td>\n",
       "      <td>0.604823</td>\n",
       "      <td>0.755824</td>\n",
       "      <td>0.722699</td>\n",
       "      <td>0.458548</td>\n",
       "      <td>0.817772</td>\n",
       "    </tr>\n",
       "    <tr>\n",
       "      <th>d</th>\n",
       "      <td>-0.041717</td>\n",
       "      <td>0.655089</td>\n",
       "      <td>0.906814</td>\n",
       "      <td>1.000000</td>\n",
       "      <td>0.682871</td>\n",
       "      <td>0.719524</td>\n",
       "      <td>0.633090</td>\n",
       "      <td>0.736066</td>\n",
       "      <td>0.719272</td>\n",
       "      <td>0.438756</td>\n",
       "      <td>0.818794</td>\n",
       "    </tr>\n",
       "    <tr>\n",
       "      <th>e</th>\n",
       "      <td>-0.065003</td>\n",
       "      <td>0.486699</td>\n",
       "      <td>0.705397</td>\n",
       "      <td>0.682871</td>\n",
       "      <td>1.000000</td>\n",
       "      <td>0.599402</td>\n",
       "      <td>0.577305</td>\n",
       "      <td>0.666759</td>\n",
       "      <td>0.603132</td>\n",
       "      <td>0.417476</td>\n",
       "      <td>0.696605</td>\n",
       "    </tr>\n",
       "    <tr>\n",
       "      <th>f</th>\n",
       "      <td>-0.045630</td>\n",
       "      <td>0.522108</td>\n",
       "      <td>0.751674</td>\n",
       "      <td>0.719524</td>\n",
       "      <td>0.599402</td>\n",
       "      <td>1.000000</td>\n",
       "      <td>0.501429</td>\n",
       "      <td>0.616108</td>\n",
       "      <td>0.628704</td>\n",
       "      <td>0.478975</td>\n",
       "      <td>0.682618</td>\n",
       "    </tr>\n",
       "    <tr>\n",
       "      <th>g</th>\n",
       "      <td>-0.112090</td>\n",
       "      <td>0.506320</td>\n",
       "      <td>0.604823</td>\n",
       "      <td>0.633090</td>\n",
       "      <td>0.577305</td>\n",
       "      <td>0.501429</td>\n",
       "      <td>1.000000</td>\n",
       "      <td>0.601893</td>\n",
       "      <td>0.518505</td>\n",
       "      <td>0.283016</td>\n",
       "      <td>0.706209</td>\n",
       "    </tr>\n",
       "    <tr>\n",
       "      <th>h</th>\n",
       "      <td>-0.060082</td>\n",
       "      <td>0.558511</td>\n",
       "      <td>0.755824</td>\n",
       "      <td>0.736066</td>\n",
       "      <td>0.666759</td>\n",
       "      <td>0.616108</td>\n",
       "      <td>0.601893</td>\n",
       "      <td>1.000000</td>\n",
       "      <td>0.665914</td>\n",
       "      <td>0.344118</td>\n",
       "      <td>0.756732</td>\n",
       "    </tr>\n",
       "    <tr>\n",
       "      <th>i</th>\n",
       "      <td>-0.052188</td>\n",
       "      <td>0.536176</td>\n",
       "      <td>0.722699</td>\n",
       "      <td>0.719272</td>\n",
       "      <td>0.603132</td>\n",
       "      <td>0.628704</td>\n",
       "      <td>0.518505</td>\n",
       "      <td>0.665914</td>\n",
       "      <td>1.000000</td>\n",
       "      <td>0.428185</td>\n",
       "      <td>0.712067</td>\n",
       "    </tr>\n",
       "    <tr>\n",
       "      <th>j</th>\n",
       "      <td>-0.034961</td>\n",
       "      <td>0.350176</td>\n",
       "      <td>0.458548</td>\n",
       "      <td>0.438756</td>\n",
       "      <td>0.417476</td>\n",
       "      <td>0.478975</td>\n",
       "      <td>0.283016</td>\n",
       "      <td>0.344118</td>\n",
       "      <td>0.428185</td>\n",
       "      <td>1.000000</td>\n",
       "      <td>0.423008</td>\n",
       "    </tr>\n",
       "    <tr>\n",
       "      <th>class</th>\n",
       "      <td>-0.080378</td>\n",
       "      <td>0.716509</td>\n",
       "      <td>0.817772</td>\n",
       "      <td>0.818794</td>\n",
       "      <td>0.696605</td>\n",
       "      <td>0.682618</td>\n",
       "      <td>0.706209</td>\n",
       "      <td>0.756732</td>\n",
       "      <td>0.712067</td>\n",
       "      <td>0.423008</td>\n",
       "      <td>1.000000</td>\n",
       "    </tr>\n",
       "  </tbody>\n",
       "</table>\n",
       "</div>"
      ],
      "text/plain": [
       "              a         b         c         d         e         f         g  \\\n",
       "a      1.000000 -0.055276 -0.041735 -0.041717 -0.065003 -0.045630 -0.112090   \n",
       "b     -0.055276  1.000000  0.645366  0.655089  0.486699  0.522108  0.506320   \n",
       "c     -0.041735  0.645366  1.000000  0.906814  0.705397  0.751674  0.604823   \n",
       "d     -0.041717  0.655089  0.906814  1.000000  0.682871  0.719524  0.633090   \n",
       "e     -0.065003  0.486699  0.705397  0.682871  1.000000  0.599402  0.577305   \n",
       "f     -0.045630  0.522108  0.751674  0.719524  0.599402  1.000000  0.501429   \n",
       "g     -0.112090  0.506320  0.604823  0.633090  0.577305  0.501429  1.000000   \n",
       "h     -0.060082  0.558511  0.755824  0.736066  0.666759  0.616108  0.601893   \n",
       "i     -0.052188  0.536176  0.722699  0.719272  0.603132  0.628704  0.518505   \n",
       "j     -0.034961  0.350176  0.458548  0.438756  0.417476  0.478975  0.283016   \n",
       "class -0.080378  0.716509  0.817772  0.818794  0.696605  0.682618  0.706209   \n",
       "\n",
       "              h         i         j     class  \n",
       "a     -0.060082 -0.052188 -0.034961 -0.080378  \n",
       "b      0.558511  0.536176  0.350176  0.716509  \n",
       "c      0.755824  0.722699  0.458548  0.817772  \n",
       "d      0.736066  0.719272  0.438756  0.818794  \n",
       "e      0.666759  0.603132  0.417476  0.696605  \n",
       "f      0.616108  0.628704  0.478975  0.682618  \n",
       "g      0.601893  0.518505  0.283016  0.706209  \n",
       "h      1.000000  0.665914  0.344118  0.756732  \n",
       "i      0.665914  1.000000  0.428185  0.712067  \n",
       "j      0.344118  0.428185  1.000000  0.423008  \n",
       "class  0.756732  0.712067  0.423008  1.000000  "
      ]
     },
     "execution_count": 13,
     "metadata": {},
     "output_type": "execute_result"
    }
   ],
   "source": [
    "dt.corr()"
   ]
  },
  {
   "cell_type": "code",
   "execution_count": null,
   "metadata": {},
   "outputs": [],
   "source": []
  }
 ],
 "metadata": {
  "kernelspec": {
   "display_name": "Python 3",
   "language": "python",
   "name": "python3"
  },
  "language_info": {
   "codemirror_mode": {
    "name": "ipython",
    "version": 3
   },
   "file_extension": ".py",
   "mimetype": "text/x-python",
   "name": "python",
   "nbconvert_exporter": "python",
   "pygments_lexer": "ipython3",
   "version": "3.7.3"
  }
 },
 "nbformat": 4,
 "nbformat_minor": 2
}
